{
 "cells": [
  {
   "cell_type": "markdown",
   "id": "challenging-communist",
   "metadata": {},
   "source": [
    "#### Problem"
   ]
  },
  {
   "cell_type": "code",
   "execution_count": 1,
   "id": "maritime-words",
   "metadata": {},
   "outputs": [
    {
     "name": "stdout",
     "output_type": "stream",
     "text": [
      "4464\n"
     ]
    }
   ],
   "source": [
    "# Count number of 4 digit with duplicate \n",
    "\n",
    "count = 0\n",
    "for num in range(1000, 10000):\n",
    "    if len(set(str(num))) != len(str(num)):\n",
    "        count += 1\n",
    "print(count)"
   ]
  },
  {
   "cell_type": "code",
   "execution_count": 2,
   "id": "bacterial-reaction",
   "metadata": {},
   "outputs": [
    {
     "name": "stdout",
     "output_type": "stream",
     "text": [
      "24\n"
     ]
    }
   ],
   "source": [
    "# Count permutations of Pencil start with P or contains Pen\n",
    "\n",
    "from itertools import permutations\n",
    "\n",
    "pencil_p = permutations('pencil')\n",
    "count = 0\n",
    "\n",
    "for per in pencil_p:\n",
    "    if per[0] == 'p': # per.startswith('p')\n",
    "        count += 1\n",
    "\n",
    "        \n",
    "pencil_p = permutations('pencil')\n",
    "count = 0\n",
    "\n",
    "for per in pencil_p:\n",
    "    per_join = ''.join(per)\n",
    "    if 'pen' in per_join:\n",
    "        count += 1\n",
    "        \n",
    "print(count)"
   ]
  },
  {
   "cell_type": "code",
   "execution_count": 3,
   "id": "associate-assumption",
   "metadata": {},
   "outputs": [
    {
     "name": "stdout",
     "output_type": "stream",
     "text": [
      "5040\n"
     ]
    }
   ],
   "source": [
    "# Count permutations of 4 players\n",
    "from itertools import permutations\n",
    "\n",
    "prize = 0\n",
    "for per in permutations([1, 2, 3, 4, 5, 6, 7]):\n",
    "    for q_id, p_id in enumerate(per, start=1):\n",
    "        if q_id == p_id:\n",
    "            prize += 1\n",
    "print(prize)"
   ]
  },
  {
   "cell_type": "code",
   "execution_count": 4,
   "id": "proved-literacy",
   "metadata": {},
   "outputs": [
    {
     "name": "stdout",
     "output_type": "stream",
     "text": [
      "0 24\n"
     ]
    }
   ],
   "source": [
    "# Count permutations of 2 oranges and 2 pears\n",
    "from itertools import permutations\n",
    "\n",
    "frt = permutations('OOPP')\n",
    "\n",
    "cnt = 0\n",
    "for i in frt:\n",
    "    cnt += 1\n",
    "\n",
    "    \n",
    "print(len(set(frt)), cnt)"
   ]
  },
  {
   "cell_type": "code",
   "execution_count": 20,
   "id": "hawaiian-omega",
   "metadata": {},
   "outputs": [
    {
     "name": "stdout",
     "output_type": "stream",
     "text": [
      "151200\n"
     ]
    }
   ],
   "source": [
    "# Count permutation of 3 boys and 6 girls doesn't contain 2 boys beside\n",
    "\n",
    "string = 'BBBGGGGGG'\n",
    "total = 0\n",
    "for per in permutations(string):\n",
    "    is_valid = 1\n",
    "    for i in range(len(per)-1):\n",
    "        if per[i] == per[i+1] == 'B':\n",
    "            is_valid = 0\n",
    "            break\n",
    "    total += is_valid\n",
    "print(total)"
   ]
  },
  {
   "cell_type": "markdown",
   "id": "developed-museum",
   "metadata": {},
   "source": [
    "### Itertools in Python\n",
    "\n",
    "1. Counting\n",
    "    - Permutation\n",
    "    - Combination\n",
    "    - Combination with Replacement\n",
    "    - Product\n",
    "\n",
    "\n",
    "2. Generation \n",
    "    - Repeat\n",
    "    - Count\n",
    "    - Cycle\n",
    "   \n",
    "\n",
    "3. Merging \n",
    "    - Accumulate\n",
    "    - Chain\n"
   ]
  },
  {
   "cell_type": "markdown",
   "id": "incredible-street",
   "metadata": {},
   "source": [
    "#### Counting "
   ]
  },
  {
   "cell_type": "code",
   "execution_count": 6,
   "id": "hollow-memorial",
   "metadata": {},
   "outputs": [],
   "source": [
    "# Permutation\n"
   ]
  },
  {
   "cell_type": "code",
   "execution_count": 7,
   "id": "primary-worcester",
   "metadata": {},
   "outputs": [],
   "source": [
    "# Combination\n"
   ]
  },
  {
   "cell_type": "code",
   "execution_count": 8,
   "id": "prescription-sacrifice",
   "metadata": {},
   "outputs": [],
   "source": [
    "# Combination with Replacement\n"
   ]
  },
  {
   "cell_type": "code",
   "execution_count": 9,
   "id": "parental-hollywood",
   "metadata": {},
   "outputs": [],
   "source": [
    "# Product\n"
   ]
  },
  {
   "cell_type": "markdown",
   "id": "known-export",
   "metadata": {},
   "source": [
    "#### Generation"
   ]
  },
  {
   "cell_type": "code",
   "execution_count": 10,
   "id": "centered-density",
   "metadata": {},
   "outputs": [],
   "source": [
    "# Repeat\n"
   ]
  },
  {
   "cell_type": "code",
   "execution_count": 11,
   "id": "conventional-purse",
   "metadata": {},
   "outputs": [],
   "source": [
    "# Count\n"
   ]
  },
  {
   "cell_type": "code",
   "execution_count": 12,
   "id": "running-helmet",
   "metadata": {},
   "outputs": [],
   "source": [
    "# Cycle\n"
   ]
  },
  {
   "cell_type": "markdown",
   "id": "facial-granny",
   "metadata": {},
   "source": [
    "#### Merging"
   ]
  },
  {
   "cell_type": "code",
   "execution_count": 13,
   "id": "possible-discretion",
   "metadata": {},
   "outputs": [],
   "source": [
    "# Accumulate & Reduce\n"
   ]
  },
  {
   "cell_type": "code",
   "execution_count": 14,
   "id": "ahead-vertex",
   "metadata": {},
   "outputs": [],
   "source": [
    "# Chain\n"
   ]
  }
 ],
 "metadata": {
  "kernelspec": {
   "display_name": "Python 3",
   "language": "python",
   "name": "python3"
  },
  "language_info": {
   "codemirror_mode": {
    "name": "ipython",
    "version": 3
   },
   "file_extension": ".py",
   "mimetype": "text/x-python",
   "name": "python",
   "nbconvert_exporter": "python",
   "pygments_lexer": "ipython3",
   "version": "3.9.1"
  }
 },
 "nbformat": 4,
 "nbformat_minor": 5
}
