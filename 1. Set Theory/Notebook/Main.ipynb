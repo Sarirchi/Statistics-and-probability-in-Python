{
 "cells": [
  {
   "cell_type": "markdown",
   "id": "challenging-communist",
   "metadata": {},
   "source": [
    "### Set in Python\n",
    "\n",
    "1. Initial\n",
    "    - Create Set\n",
    "    - Add to Set\n",
    "    - Remove from Set\n",
    "    - Update Set\n",
    "\n",
    "\n",
    "2. Operator \n",
    "    - Intersection\n",
    "    - Union\n",
    "    - Difference\n",
    "    - Symmetric Difference\n",
    "    - Product\n",
    "\n",
    "\n",
    "3. Checking \n",
    "    - Membership\n",
    "    - Disjoint\n",
    "    - Subset\n",
    "    - Superset\n",
    "    - Complement\n",
    "    - PowerSet\n"
   ]
  },
  {
   "cell_type": "markdown",
   "id": "authentic-redhead",
   "metadata": {},
   "source": [
    "#### Initial"
   ]
  },
  {
   "cell_type": "code",
   "execution_count": 1,
   "id": "associate-assumption",
   "metadata": {},
   "outputs": [
    {
     "name": "stdout",
     "output_type": "stream",
     "text": [
      "{18, 19, 20, 15}\n"
     ]
    }
   ],
   "source": [
    "# Create Set\n",
    "numbers = set()\n",
    "grades = {20, 19, 18, 15, 15}\n",
    "print(grades)"
   ]
  },
  {
   "cell_type": "code",
   "execution_count": 3,
   "id": "proved-literacy",
   "metadata": {},
   "outputs": [
    {
     "name": "stdout",
     "output_type": "stream",
     "text": [
      "{1, 2, 3, 4, 5}\n",
      "{1, 2, 3, 6}\n"
     ]
    }
   ],
   "source": [
    "# Add to Set\n",
    "numbers = set()\n",
    "\n",
    "for i in range(1, 6):\n",
    "    numbers.add(i)\n",
    "    \n",
    "print(numbers)\n",
    "\n",
    "nums = [1, 2, 3, 6, 2, 3]\n",
    "nums_set = set(nums)\n",
    "print(nums_set)"
   ]
  },
  {
   "cell_type": "code",
   "execution_count": 9,
   "id": "hawaiian-omega",
   "metadata": {},
   "outputs": [
    {
     "name": "stdout",
     "output_type": "stream",
     "text": [
      "{2, 3, 4, 5}\n",
      "{4, 5}\n"
     ]
    }
   ],
   "source": [
    "# Remove from Set\n",
    "\n",
    "numbers = set()\n",
    "\n",
    "for i in range(1, 6):\n",
    "    numbers.add(i)\n",
    "\n",
    "numbers.remove(1)\n",
    "print(numbers)\n",
    "\n",
    "numbers.discard(1)\n",
    "numbers.discard(3)\n",
    "numbers.discard(2)\n",
    "print(numbers)"
   ]
  },
  {
   "cell_type": "code",
   "execution_count": 10,
   "id": "tired-equity",
   "metadata": {},
   "outputs": [
    {
     "name": "stdout",
     "output_type": "stream",
     "text": [
      "{1, 2, 3, 4, 5, 6, 7}\n"
     ]
    }
   ],
   "source": [
    "# Update Set\n",
    "set_1 = {1, 2, 3, 4, 5}\n",
    "set_2 = {3, 4, 5, 6, 7}\n",
    "\n",
    "set_1.update(set_2)\n",
    "print(set_1)"
   ]
  },
  {
   "cell_type": "markdown",
   "id": "accurate-calculator",
   "metadata": {},
   "source": [
    "#### Operator"
   ]
  },
  {
   "cell_type": "code",
   "execution_count": 12,
   "id": "martial-entertainment",
   "metadata": {},
   "outputs": [
    {
     "name": "stdout",
     "output_type": "stream",
     "text": [
      "{1, 3}\n",
      "{1, 3}\n"
     ]
    }
   ],
   "source": [
    "# Intersection\n",
    "s1 = {0, 1, 2, 3}\n",
    "s2 = {1, 3}\n",
    "\n",
    "print(s1.intersection(s2))\n",
    "print(s1 & s2)"
   ]
  },
  {
   "cell_type": "code",
   "execution_count": 15,
   "id": "resident-situation",
   "metadata": {},
   "outputs": [
    {
     "name": "stdout",
     "output_type": "stream",
     "text": [
      "{0, 1, 2, 3, 4}\n",
      "{0, 1, 2, 3, 4}\n"
     ]
    }
   ],
   "source": [
    "# Union\n",
    "s1 = {0, 1, 2, 3}\n",
    "s2 = {1, 3, 4}\n",
    "\n",
    "print(s1.union(s2))\n",
    "print(s1 | s2)"
   ]
  },
  {
   "cell_type": "code",
   "execution_count": 18,
   "id": "ignored-sucking",
   "metadata": {},
   "outputs": [
    {
     "name": "stdout",
     "output_type": "stream",
     "text": [
      "{0, 2}\n",
      "{4}\n",
      "{0, 2} {4}\n"
     ]
    }
   ],
   "source": [
    "# Difference\n",
    "s1 = {0, 1, 2, 3}\n",
    "s2 = {1, 3, 4}\n",
    "\n",
    "print(s1.difference(s2))\n",
    "print(s2.difference(s1))\n",
    "\n",
    "print(s1 - s2, s2 - s1)"
   ]
  },
  {
   "cell_type": "code",
   "execution_count": 20,
   "id": "molecular-cooperative",
   "metadata": {},
   "outputs": [
    {
     "name": "stdout",
     "output_type": "stream",
     "text": [
      "{0, 2, 4}\n",
      "{0, 2, 4}\n"
     ]
    }
   ],
   "source": [
    "# Symmetric Difference\n",
    "s1 = {0, 1, 2, 3}\n",
    "s2 = {1, 3, 4}\n",
    "\n",
    "print(s1.symmetric_difference(s2))\n",
    "\n",
    "print(s1 ^ s2)"
   ]
  },
  {
   "cell_type": "code",
   "execution_count": 23,
   "id": "illegal-board",
   "metadata": {},
   "outputs": [
    {
     "name": "stdout",
     "output_type": "stream",
     "text": [
      "[(1, 4), (1, 5), (2, 4), (2, 5), (3, 4), (3, 5)]\n",
      "[(1, 4), (1, 5), (2, 4), (2, 5), (3, 4), (3, 5)]\n"
     ]
    }
   ],
   "source": [
    "# Product\n",
    "s1 = {1, 2, 3}\n",
    "s2 = {4, 5}\n",
    "\n",
    "result = []\n",
    "for x in s1:\n",
    "    for y in s2:\n",
    "        result.append((x, y))\n",
    "        \n",
    "print(result)\n",
    "\n",
    "\n",
    "from itertools import product\n",
    "\n",
    "print(list(product(s1, s2)))"
   ]
  },
  {
   "cell_type": "markdown",
   "id": "fatty-assignment",
   "metadata": {},
   "source": [
    "#### Operator\n"
   ]
  },
  {
   "cell_type": "code",
   "execution_count": 27,
   "id": "growing-sleeping",
   "metadata": {},
   "outputs": [
    {
     "name": "stdout",
     "output_type": "stream",
     "text": [
      "True\n",
      "True\n",
      "True\n"
     ]
    }
   ],
   "source": [
    "# Membership\n",
    "s1 = {1, 2, 3}\n",
    "\n",
    "print(1 in s1)\n",
    "print(2 in s1)\n",
    "print(4 not in s1)"
   ]
  },
  {
   "cell_type": "code",
   "execution_count": 33,
   "id": "prescription-enough",
   "metadata": {},
   "outputs": [
    {
     "name": "stdout",
     "output_type": "stream",
     "text": [
      "False\n",
      "False\n",
      "False\n"
     ]
    }
   ],
   "source": [
    "# Disjoint\n",
    "s1 = {1, 2, 3}\n",
    "s2 = {4, 5, 6, 2}\n",
    "\n",
    "print(s1.intersection(s2) == set())\n",
    "print(s1 & s2 == set())\n",
    "print(s1.isdisjoint(s2))"
   ]
  },
  {
   "cell_type": "code",
   "execution_count": 38,
   "id": "starting-convertible",
   "metadata": {},
   "outputs": [
    {
     "name": "stdout",
     "output_type": "stream",
     "text": [
      "True\n",
      "True\n"
     ]
    }
   ],
   "source": [
    "# Subset\n",
    "s1 = {4, 5, 6}\n",
    "s2 = {4, 5, 6, 2}\n",
    "\n",
    "print(s2.issuperset(s1))\n",
    "print(s1.issubset(s2))"
   ]
  },
  {
   "cell_type": "code",
   "execution_count": 39,
   "id": "exciting-aggregate",
   "metadata": {},
   "outputs": [
    {
     "name": "stdout",
     "output_type": "stream",
     "text": [
      "True\n",
      "True\n"
     ]
    }
   ],
   "source": [
    "# Superset\n",
    "s1 = {4, 5, 6}\n",
    "s2 = {4, 5, 6, 2}\n",
    "\n",
    "print(s2.issuperset(s1))\n",
    "print(s1.issubset(s2))"
   ]
  },
  {
   "cell_type": "code",
   "execution_count": 42,
   "id": "constitutional-clothing",
   "metadata": {},
   "outputs": [
    {
     "name": "stdout",
     "output_type": "stream",
     "text": [
      "{1, 2, 3, 7, 8, 9, 10}\n"
     ]
    }
   ],
   "source": [
    "# Complement\n",
    "U = set(range(1, 11))\n",
    "s1 = {4, 5, 6}\n",
    "\n",
    "print(U - s1)"
   ]
  },
  {
   "cell_type": "code",
   "execution_count": 52,
   "id": "afraid-youth",
   "metadata": {},
   "outputs": [
    {
     "name": "stdout",
     "output_type": "stream",
     "text": [
      "()\n",
      "(1,)\n",
      "(2,)\n",
      "(3,)\n",
      "(4,)\n",
      "(1, 2)\n",
      "(1, 3)\n",
      "(1, 4)\n",
      "(2, 3)\n",
      "(2, 4)\n",
      "(3, 4)\n",
      "(1, 2, 3)\n",
      "(1, 2, 4)\n",
      "(1, 3, 4)\n",
      "(2, 3, 4)\n",
      "(1, 2, 3, 4)\n"
     ]
    }
   ],
   "source": [
    "# PowerSet\n",
    "from itertools import combinations as comb\n",
    "\n",
    "s1 = {1, 2, 3, 4}\n",
    "result = []\n",
    "\n",
    "for lng in range(0, len(s1)+1):\n",
    "    selection = list(comb(s1, lng))\n",
    "    result.extend(selection)\n",
    "\n",
    "for x in result:\n",
    "    print(x)"
   ]
  },
  {
   "cell_type": "markdown",
   "id": "preliminary-release",
   "metadata": {},
   "source": [
    "#### Problems"
   ]
  },
  {
   "cell_type": "code",
   "execution_count": 55,
   "id": "realistic-bridges",
   "metadata": {},
   "outputs": [
    {
     "name": "stdout",
     "output_type": "stream",
     "text": [
      "9\n",
      "4\n"
     ]
    }
   ],
   "source": [
    "# Count unique elements in a list\n",
    "\n",
    "nums = [1, 2, 1, 2, 3, 4, 4, 4, 3]\n",
    "print(len(nums))\n",
    "print(len(set(nums)))"
   ]
  },
  {
   "cell_type": "code",
   "execution_count": 59,
   "id": "textile-poster",
   "metadata": {},
   "outputs": [
    {
     "name": "stdout",
     "output_type": "stream",
     "text": [
      "1 2\n",
      "2 2\n",
      "3 2\n",
      "4 3\n",
      "{1: 2, 2: 2, 3: 2, 4: 3}\n",
      "Counter({4: 3, 1: 2, 2: 2, 3: 2})\n"
     ]
    }
   ],
   "source": [
    "# Count each unique elements in a list\n",
    "nums = [1, 2, 1, 2, 3, 4, 4, 4, 3]\n",
    "\n",
    "for x in set(nums):\n",
    "    print(x, nums.count(x))\n",
    "\n",
    "count = {} # dict()\n",
    "\n",
    "for x in nums:\n",
    "    if x in count:\n",
    "        count[x] += 1\n",
    "    else:\n",
    "        count[x] = 1\n",
    "\n",
    "print(count)\n",
    "\n",
    "from collections import Counter\n",
    "print(Counter(nums))"
   ]
  },
  {
   "cell_type": "code",
   "execution_count": 64,
   "id": "joint-white",
   "metadata": {},
   "outputs": [
    {
     "name": "stdout",
     "output_type": "stream",
     "text": [
      "8\n"
     ]
    }
   ],
   "source": [
    "# Sum of numbers which repeated one times \n",
    "\n",
    "from collections import Counter\n",
    "\n",
    "nums = [1, 2, 3, 3, 4, 4, 4, 5]\n",
    "cnt = Counter(nums)\n",
    "\n",
    "total = 0\n",
    "\n",
    "for x in cnt:\n",
    "    if cnt[x] == 1:\n",
    "        total += x\n",
    "\n",
    "print(total)"
   ]
  },
  {
   "cell_type": "code",
   "execution_count": null,
   "id": "finnish-disorder",
   "metadata": {},
   "outputs": [],
   "source": []
  }
 ],
 "metadata": {
  "kernelspec": {
   "display_name": "Python 3",
   "language": "python",
   "name": "python3"
  },
  "language_info": {
   "codemirror_mode": {
    "name": "ipython",
    "version": 3
   },
   "file_extension": ".py",
   "mimetype": "text/x-python",
   "name": "python",
   "nbconvert_exporter": "python",
   "pygments_lexer": "ipython3",
   "version": "3.9.1"
  }
 },
 "nbformat": 4,
 "nbformat_minor": 5
}
