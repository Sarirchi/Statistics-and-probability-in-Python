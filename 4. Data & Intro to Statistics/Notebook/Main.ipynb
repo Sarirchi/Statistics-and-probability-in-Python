{
 "cells": [
  {
   "cell_type": "markdown",
   "id": "liked-latest",
   "metadata": {},
   "source": [
    "Sample"
   ]
  },
  {
   "cell_type": "code",
   "execution_count": 29,
   "id": "noted-blast",
   "metadata": {},
   "outputs": [
    {
     "data": {
      "text/plain": [
       "[1, 2, 3, 4, 5, 6, 7, 8, 9, 10]"
      ]
     },
     "execution_count": 29,
     "metadata": {},
     "output_type": "execute_result"
    }
   ],
   "source": [
    "pop = list(range(1, 11))\n",
    "pop"
   ]
  },
  {
   "cell_type": "code",
   "execution_count": 31,
   "id": "violent-correction",
   "metadata": {},
   "outputs": [
    {
     "data": {
      "text/plain": [
       "[8, 2, 6, 4, 5]"
      ]
     },
     "execution_count": 31,
     "metadata": {},
     "output_type": "execute_result"
    }
   ],
   "source": [
    "# Sample from population: Radnom Lib (Without Replacement)\n",
    "\n",
    "from random import sample\n",
    "\n",
    "sample(pop, 5)"
   ]
  },
  {
   "cell_type": "code",
   "execution_count": 35,
   "id": "modified-equity",
   "metadata": {},
   "outputs": [
    {
     "data": {
      "text/plain": [
       "array([2, 5, 7, 2])"
      ]
     },
     "execution_count": 35,
     "metadata": {},
     "output_type": "execute_result"
    }
   ],
   "source": [
    "# Sample from population: Numby Lib (With Replacement)\n",
    "\n",
    "import numpy as np\n",
    "\n",
    "np.random.choice(pop, 4, replace=True)"
   ]
  },
  {
   "cell_type": "markdown",
   "id": "valid-fitting",
   "metadata": {},
   "source": [
    "Mean"
   ]
  },
  {
   "cell_type": "code",
   "execution_count": 36,
   "id": "rational-discount",
   "metadata": {},
   "outputs": [],
   "source": [
    "data = [12, 16, 17, 18, 15, 16, 90, 95]"
   ]
  },
  {
   "cell_type": "code",
   "execution_count": 37,
   "id": "simplified-blanket",
   "metadata": {},
   "outputs": [
    {
     "name": "stdout",
     "output_type": "stream",
     "text": [
      "34.875\n"
     ]
    }
   ],
   "source": [
    "# Mean: Python way 1\n",
    "\n",
    "total = 0\n",
    "for x in data:\n",
    "    total += x\n",
    "print(total / len(data))"
   ]
  },
  {
   "cell_type": "code",
   "execution_count": 38,
   "id": "closing-referral",
   "metadata": {},
   "outputs": [
    {
     "name": "stdout",
     "output_type": "stream",
     "text": [
      "34.875\n"
     ]
    }
   ],
   "source": [
    "# Mean: Python way 2\n",
    "\n",
    "print(sum(data) / len(data))"
   ]
  },
  {
   "cell_type": "code",
   "execution_count": 39,
   "id": "electric-filter",
   "metadata": {},
   "outputs": [
    {
     "data": {
      "text/plain": [
       "34.875"
      ]
     },
     "execution_count": 39,
     "metadata": {},
     "output_type": "execute_result"
    }
   ],
   "source": [
    "# Mean: Numpy way\n",
    "\n",
    "np.mean(data)"
   ]
  },
  {
   "cell_type": "markdown",
   "id": "built-louisiana",
   "metadata": {},
   "source": [
    "Median"
   ]
  },
  {
   "cell_type": "code",
   "execution_count": 52,
   "id": "discrete-roots",
   "metadata": {},
   "outputs": [],
   "source": [
    "data = [3, 5, 4, 1, 2, 6]"
   ]
  },
  {
   "cell_type": "code",
   "execution_count": 50,
   "id": "ethical-interval",
   "metadata": {},
   "outputs": [
    {
     "data": {
      "text/plain": [
       "[1, 2, 3, 4, 5, 6]"
      ]
     },
     "execution_count": 50,
     "metadata": {},
     "output_type": "execute_result"
    }
   ],
   "source": [
    "sorted(data)"
   ]
  },
  {
   "cell_type": "code",
   "execution_count": 54,
   "id": "imperial-simple",
   "metadata": {},
   "outputs": [
    {
     "name": "stdout",
     "output_type": "stream",
     "text": [
      "3.5\n"
     ]
    }
   ],
   "source": [
    "# Median: Python way\n",
    "\n",
    "data.sort()\n",
    "\n",
    "if len(data) % 2 == 1:\n",
    "    m = len(data) // 2\n",
    "    median = data[m]\n",
    "else:\n",
    "    m1 = len(data) // 2\n",
    "    m2 = len(data) // 2 - 1\n",
    "    median = (data[m1] + data[m2]) / 2\n",
    "\n",
    "print(median)"
   ]
  },
  {
   "cell_type": "code",
   "execution_count": 55,
   "id": "damaged-attachment",
   "metadata": {},
   "outputs": [
    {
     "data": {
      "text/plain": [
       "3.5"
      ]
     },
     "execution_count": 55,
     "metadata": {},
     "output_type": "execute_result"
    }
   ],
   "source": [
    "# Median: Numpy way\n",
    "\n",
    "np.median(data)"
   ]
  },
  {
   "cell_type": "markdown",
   "id": "material-daughter",
   "metadata": {},
   "source": [
    "Mode"
   ]
  },
  {
   "cell_type": "code",
   "execution_count": 57,
   "id": "juvenile-sound",
   "metadata": {},
   "outputs": [],
   "source": [
    "data = [1, 2, 2, 3, 3, 4, 5]"
   ]
  },
  {
   "cell_type": "code",
   "execution_count": 61,
   "id": "eligible-evolution",
   "metadata": {},
   "outputs": [
    {
     "data": {
      "text/plain": [
       "{1, 2, 3, 4, 5}"
      ]
     },
     "execution_count": 61,
     "metadata": {},
     "output_type": "execute_result"
    }
   ],
   "source": [
    "set(data)"
   ]
  },
  {
   "cell_type": "code",
   "execution_count": 60,
   "id": "hollywood-small",
   "metadata": {},
   "outputs": [
    {
     "name": "stdout",
     "output_type": "stream",
     "text": [
      "mode:  2\n",
      "mode:  3\n"
     ]
    }
   ],
   "source": [
    "# Mode: Python way\n",
    "\n",
    "max_count = 0\n",
    "\n",
    "for x in data:\n",
    "    count = data.count(x)\n",
    "    max_count = max(max_count, count)\n",
    "\n",
    "for x in set(data):\n",
    "    if data.count(x) == max_count:\n",
    "        print('mode: ', x)"
   ]
  },
  {
   "cell_type": "code",
   "execution_count": 67,
   "id": "annual-brooklyn",
   "metadata": {},
   "outputs": [
    {
     "name": "stdout",
     "output_type": "stream",
     "text": [
      "Counter({2: 2, 3: 2, 1: 1, 4: 1, 5: 1})\n"
     ]
    }
   ],
   "source": [
    "from collections import Counter\n",
    "\n",
    "print(Counter(data))"
   ]
  },
  {
   "cell_type": "code",
   "execution_count": 66,
   "id": "following-jenny",
   "metadata": {},
   "outputs": [
    {
     "name": "stdout",
     "output_type": "stream",
     "text": [
      "ModeResult(mode=array([2]), count=array([2]))\n"
     ]
    }
   ],
   "source": [
    "# Mode: SciPy way\n",
    "\n",
    "from scipy import stats\n",
    "\n",
    "print(stats.mode(data))"
   ]
  },
  {
   "cell_type": "markdown",
   "id": "gentle-president",
   "metadata": {},
   "source": [
    "Range"
   ]
  },
  {
   "cell_type": "code",
   "execution_count": 73,
   "id": "subjective-winner",
   "metadata": {},
   "outputs": [],
   "source": [
    "data = [1, 2, 3, 4, 5, 6, 90, 12, 5, 4]"
   ]
  },
  {
   "cell_type": "code",
   "execution_count": 74,
   "id": "social-miami",
   "metadata": {},
   "outputs": [
    {
     "data": {
      "text/plain": [
       "89"
      ]
     },
     "execution_count": 74,
     "metadata": {},
     "output_type": "execute_result"
    }
   ],
   "source": [
    "# Range: Python way\n",
    "\n",
    "max(data) - min(data)"
   ]
  },
  {
   "cell_type": "code",
   "execution_count": 78,
   "id": "false-evening",
   "metadata": {},
   "outputs": [
    {
     "data": {
      "text/plain": [
       "1.25"
      ]
     },
     "execution_count": 78,
     "metadata": {},
     "output_type": "execute_result"
    }
   ],
   "source": [
    "# IQR: (Python & Numpy) way\n",
    "\n",
    "Q1, Q2, Q3 = np.quantile(data, [0.25, 0.5, 0.75])\n",
    "\n",
    "IQR = Q3 - Q2\n",
    "\n",
    "IQR"
   ]
  },
  {
   "cell_type": "markdown",
   "id": "hindu-liberal",
   "metadata": {},
   "source": [
    "STD & VAR"
   ]
  },
  {
   "cell_type": "code",
   "execution_count": 81,
   "id": "radical-exchange",
   "metadata": {},
   "outputs": [],
   "source": [
    "data = [1, 2, 3, 4, 5, 6, 90, 12, 5, 4]"
   ]
  },
  {
   "cell_type": "code",
   "execution_count": 82,
   "id": "agreed-child",
   "metadata": {},
   "outputs": [
    {
     "data": {
      "text/plain": [
       "(663.3599999999999, 25.755776051208397)"
      ]
     },
     "execution_count": 82,
     "metadata": {},
     "output_type": "execute_result"
    }
   ],
   "source": [
    "# VAR & STD: Python way\n",
    "\n",
    "total = 0\n",
    "for x in data:\n",
    "    total += (x - np.mean(data))**2\n",
    "\n",
    "var = total / len(data)\n",
    "std = var ** 0.5\n",
    "\n",
    "var, std"
   ]
  },
  {
   "cell_type": "code",
   "execution_count": 84,
   "id": "prepared-female",
   "metadata": {},
   "outputs": [
    {
     "data": {
      "text/plain": [
       "(663.3599999999999, 25.755776051208397)"
      ]
     },
     "execution_count": 84,
     "metadata": {},
     "output_type": "execute_result"
    }
   ],
   "source": [
    "# VAR & STD: Numpy way\n",
    "\n",
    "np.var(data), np.std(data)"
   ]
  },
  {
   "cell_type": "markdown",
   "id": "collectible-collection",
   "metadata": {},
   "source": [
    "Missing Data & Noise"
   ]
  },
  {
   "cell_type": "code",
   "execution_count": 85,
   "id": "regular-superior",
   "metadata": {},
   "outputs": [
    {
     "data": {
      "text/html": [
       "<style type=\"text/css\">\n",
       "#T_17b90_row1_col1 {\n",
       "  background-color: #ff35;\n",
       "}\n",
       "</style>\n",
       "<table id=\"T_17b90_\">\n",
       "  <thead>\n",
       "    <tr>\n",
       "      <th class=\"blank level0\" >&nbsp;</th>\n",
       "      <th class=\"col_heading level0 col0\" >Name</th>\n",
       "      <th class=\"col_heading level0 col1\" >Age</th>\n",
       "      <th class=\"col_heading level0 col2\" >Salary</th>\n",
       "    </tr>\n",
       "  </thead>\n",
       "  <tbody>\n",
       "    <tr>\n",
       "      <th id=\"T_17b90_level0_row0\" class=\"row_heading level0 row0\" >0</th>\n",
       "      <td id=\"T_17b90_row0_col0\" class=\"data row0 col0\" >Karim</td>\n",
       "      <td id=\"T_17b90_row0_col1\" class=\"data row0 col1\" >nan</td>\n",
       "      <td id=\"T_17b90_row0_col2\" class=\"data row0 col2\" >12000.000000</td>\n",
       "    </tr>\n",
       "    <tr>\n",
       "      <th id=\"T_17b90_level0_row1\" class=\"row_heading level0 row1\" >1</th>\n",
       "      <td id=\"T_17b90_row1_col0\" class=\"data row1 col0\" >Mohamad</td>\n",
       "      <td id=\"T_17b90_row1_col1\" class=\"data row1 col1\" >300.000000</td>\n",
       "      <td id=\"T_17b90_row1_col2\" class=\"data row1 col2\" >nan</td>\n",
       "    </tr>\n",
       "    <tr>\n",
       "      <th id=\"T_17b90_level0_row2\" class=\"row_heading level0 row2\" >2</th>\n",
       "      <td id=\"T_17b90_row2_col0\" class=\"data row2 col0\" >Shahryar</td>\n",
       "      <td id=\"T_17b90_row2_col1\" class=\"data row2 col1\" >20.000000</td>\n",
       "      <td id=\"T_17b90_row2_col2\" class=\"data row2 col2\" >nan</td>\n",
       "    </tr>\n",
       "    <tr>\n",
       "      <th id=\"T_17b90_level0_row3\" class=\"row_heading level0 row3\" >3</th>\n",
       "      <td id=\"T_17b90_row3_col0\" class=\"data row3 col0\" >Delaram</td>\n",
       "      <td id=\"T_17b90_row3_col1\" class=\"data row3 col1\" >18.000000</td>\n",
       "      <td id=\"T_17b90_row3_col2\" class=\"data row3 col2\" >10000.000000</td>\n",
       "    </tr>\n",
       "    <tr>\n",
       "      <th id=\"T_17b90_level0_row4\" class=\"row_heading level0 row4\" >4</th>\n",
       "      <td id=\"T_17b90_row4_col0\" class=\"data row4 col0\" >Parisima</td>\n",
       "      <td id=\"T_17b90_row4_col1\" class=\"data row4 col1\" >25.000000</td>\n",
       "      <td id=\"T_17b90_row4_col2\" class=\"data row4 col2\" >5000.000000</td>\n",
       "    </tr>\n",
       "  </tbody>\n",
       "</table>\n"
      ],
      "text/plain": [
       "<pandas.io.formats.style.Styler at 0x7fbe4cd56a60>"
      ]
     },
     "execution_count": 85,
     "metadata": {},
     "output_type": "execute_result"
    }
   ],
   "source": [
    "import pandas as pd\n",
    "import numpy as n\n",
    "data = pd.DataFrame({\n",
    "    'Name': ['Karim', 'Mohamad', 'Shahryar', 'Delaram', 'Parisima'],\n",
    "    'Age': [None, 300, 20, 18, 25],\n",
    "    'Salary': [12000, None, None, 10000, 5000.0]\n",
    "})\n",
    "\n",
    "\n",
    "data.style.apply(lambda x: [\"background-color: #ff35\" if (type(v) != str and v == 300) \n",
    "                            else \"\" for i, v in enumerate(x)], axis = 1)"
   ]
  },
  {
   "cell_type": "code",
   "execution_count": null,
   "id": "worthy-prototype",
   "metadata": {},
   "outputs": [],
   "source": []
  }
 ],
 "metadata": {
  "kernelspec": {
   "display_name": "Python 3",
   "language": "python",
   "name": "python3"
  },
  "language_info": {
   "codemirror_mode": {
    "name": "ipython",
    "version": 3
   },
   "file_extension": ".py",
   "mimetype": "text/x-python",
   "name": "python",
   "nbconvert_exporter": "python",
   "pygments_lexer": "ipython3",
   "version": "3.9.1"
  }
 },
 "nbformat": 4,
 "nbformat_minor": 5
}
