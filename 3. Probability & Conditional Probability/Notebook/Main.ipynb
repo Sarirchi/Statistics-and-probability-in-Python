{
 "cells": [
  {
   "cell_type": "markdown",
   "id": "vanilla-treat",
   "metadata": {},
   "source": [
    "Source: [HackerEarth](https://www.hackerearth.com/practice/machine-learning/prerequisites-of-machine-learning/bayes-rules-conditional-probability-chain-rule/tutorial/)"
   ]
  },
  {
   "cell_type": "code",
   "execution_count": 1,
   "id": "violent-correction",
   "metadata": {},
   "outputs": [
    {
     "name": "stdout",
     "output_type": "stream",
     "text": [
      "0.3\n",
      ".4\n",
      "10\n",
      "0.26\n"
     ]
    }
   ],
   "source": [
    "# Problem\n",
    "# 1. O = P(Ontime without any trouble)\n",
    "# 2. C = P(Car has trouble)\n",
    "# 3. N = Count of subways (2/N)\n",
    "\n",
    "# (1 - C) * O  +  C * (2/N)\n",
    "\n",
    "O = float(input())\n",
    "C = float(input())\n",
    "N = int(input())\n",
    "C_OK = 1 - C\n",
    "SUBWAY_P = 2 / N\n",
    "\n",
    "print(C_OK * O + C * SUBWAY_P)\n"
   ]
  },
  {
   "cell_type": "code",
   "execution_count": 8,
   "id": "solved-invalid",
   "metadata": {},
   "outputs": [
    {
     "name": "stdout",
     "output_type": "stream",
     "text": [
      "1e-05\n"
     ]
    }
   ],
   "source": [
    "# Problem Airplane Kill\n",
    "\n",
    "s = 1 - (1 - 25 * 10 ** (-9))**400\n",
    "print(round(s, 7))"
   ]
  },
  {
   "cell_type": "code",
   "execution_count": null,
   "id": "ambient-metadata",
   "metadata": {},
   "outputs": [],
   "source": []
  }
 ],
 "metadata": {
  "kernelspec": {
   "display_name": "Python 3",
   "language": "python",
   "name": "python3"
  },
  "language_info": {
   "codemirror_mode": {
    "name": "ipython",
    "version": 3
   },
   "file_extension": ".py",
   "mimetype": "text/x-python",
   "name": "python",
   "nbconvert_exporter": "python",
   "pygments_lexer": "ipython3",
   "version": "3.9.1"
  }
 },
 "nbformat": 4,
 "nbformat_minor": 5
}
