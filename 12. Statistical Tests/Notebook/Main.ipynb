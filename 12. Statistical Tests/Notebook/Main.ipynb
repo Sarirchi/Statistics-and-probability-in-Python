{
 "cells": [
  {
   "cell_type": "code",
   "execution_count": 1,
   "id": "overhead-adult",
   "metadata": {},
   "outputs": [],
   "source": [
    "import numpy as np\n",
    "import pandas as pd\n",
    "import scipy.stats as st\n",
    "import random\n",
    "import matplotlib.pyplot as plt\n",
    "import seaborn as sns\n",
    "import warnings\n",
    "warnings.filterwarnings('ignore')"
   ]
  },
  {
   "cell_type": "markdown",
   "id": "fresh-current",
   "metadata": {},
   "source": [
    "### Normality Test"
   ]
  },
  {
   "cell_type": "markdown",
   "id": "wooden-officer",
   "metadata": {},
   "source": [
    "#### 1. Shapiro\n",
    "\n",
    "$H_0 = \\text{Normal Dist}$\n",
    "\n",
    "$H_a = \\text{Non-Normal Dist}$"
   ]
  },
  {
   "cell_type": "code",
   "execution_count": 2,
   "id": "variable-summer",
   "metadata": {},
   "outputs": [],
   "source": [
    "data_norm = st.norm(0, 1).rvs(100)\n",
    "data_uni = st.uniform(-1, 1).rvs(100)"
   ]
  },
  {
   "cell_type": "code",
   "execution_count": 3,
   "id": "earned-madagascar",
   "metadata": {},
   "outputs": [
    {
     "name": "stdout",
     "output_type": "stream",
     "text": [
      "stat=0.992, p=0.784\n"
     ]
    }
   ],
   "source": [
    "stat, p = st.shapiro(data_norm)\n",
    "\n",
    "print('stat=%.3f, p=%.3f' % (stat, p))"
   ]
  },
  {
   "cell_type": "code",
   "execution_count": 4,
   "id": "african-reserve",
   "metadata": {
    "scrolled": true
   },
   "outputs": [
    {
     "name": "stdout",
     "output_type": "stream",
     "text": [
      "stat=0.954, p=0.002\n"
     ]
    }
   ],
   "source": [
    "stat, p = st.shapiro(data_uni)\n",
    "\n",
    "print('stat=%.3f, p=%.3f' % (stat, p))"
   ]
  },
  {
   "cell_type": "markdown",
   "id": "existing-atmosphere",
   "metadata": {},
   "source": [
    "#### 2. D’Agostino’s K^2\n",
    "\n",
    "$H_0 = \\text{Normal Dist}$\n",
    "\n",
    "$H_a = \\text{Non-Normal Dist}$"
   ]
  },
  {
   "cell_type": "code",
   "execution_count": 5,
   "id": "qualified-mountain",
   "metadata": {},
   "outputs": [
    {
     "name": "stdout",
     "output_type": "stream",
     "text": [
      "stat=0.481, p=0.786\n"
     ]
    }
   ],
   "source": [
    "stat, p = st.normaltest(data_norm)\n",
    "\n",
    "print('stat=%.3f, p=%.3f' % (stat, p))"
   ]
  },
  {
   "cell_type": "code",
   "execution_count": 6,
   "id": "stuck-commissioner",
   "metadata": {},
   "outputs": [
    {
     "name": "stdout",
     "output_type": "stream",
     "text": [
      "stat=25.540, p=0.000\n"
     ]
    }
   ],
   "source": [
    "stat, p = st.normaltest(data_uni)\n",
    "\n",
    "print('stat=%.3f, p=%.3f' % (stat, p))"
   ]
  },
  {
   "cell_type": "markdown",
   "id": "happy-november",
   "metadata": {},
   "source": [
    "#### 3. Anderson-Darling\n",
    "\n",
    "$H_0 = \\text{Normal Dist}$\n",
    "\n",
    "$H_a = \\text{Non-Normal Dist}$"
   ]
  },
  {
   "cell_type": "code",
   "execution_count": 8,
   "id": "protective-saudi",
   "metadata": {},
   "outputs": [
    {
     "name": "stdout",
     "output_type": "stream",
     "text": [
      "stat=0.172\n",
      "Normal at the 85.0% level\n",
      "Normal at the 90.0% level\n",
      "Normal at the 95.0% level\n",
      "Normal at the 97.5% level\n",
      "Normal at the 99.0% level\n"
     ]
    }
   ],
   "source": [
    "result = st.anderson(data_norm)\n",
    "\n",
    "print('stat=%.3f' % (result.statistic))\n",
    "\n",
    "for i in range(len(result.critical_values)):\n",
    "    sl, cv = result.significance_level[i], result.critical_values[i]\n",
    "    if result.statistic < cv:\n",
    "        print('Normal at the %.1f%% level' % (100 - sl))\n",
    "    else:\n",
    "        print('Non-Normal at the %.1f%% level' % (100 - sl))"
   ]
  },
  {
   "cell_type": "code",
   "execution_count": 9,
   "id": "differential-clone",
   "metadata": {},
   "outputs": [
    {
     "name": "stdout",
     "output_type": "stream",
     "text": [
      "stat=1.068\n",
      "Non-Normal at the 85.0% level\n",
      "Non-Normal at the 90.0% level\n",
      "Non-Normal at the 95.0% level\n",
      "Non-Normal at the 97.5% level\n",
      "Non-Normal at the 99.0% level\n"
     ]
    }
   ],
   "source": [
    "result = st.anderson(data_uni)\n",
    "\n",
    "print('stat=%.3f' % (result.statistic))\n",
    "\n",
    "for i in range(len(result.critical_values)):\n",
    "    sl, cv = result.significance_level[i], result.critical_values[i]\n",
    "    if result.statistic < cv:\n",
    "        print('Normal at the %.1f%% level' % (100 - sl))\n",
    "    else:\n",
    "        print('Non-Normal at the %.1f%% level' % (100 - sl))"
   ]
  },
  {
   "cell_type": "markdown",
   "id": "endangered-ambassador",
   "metadata": {},
   "source": [
    "### Correlation"
   ]
  },
  {
   "cell_type": "markdown",
   "id": "young-bouquet",
   "metadata": {},
   "source": [
    "#### 1. Pearson’s Correlation Coefficient\n",
    "\n",
    "$H_0 = \\text{Independent Samples}$\n",
    "\n",
    "$H_a = \\text{Dependent Samples}$"
   ]
  },
  {
   "cell_type": "code",
   "execution_count": 21,
   "id": "wrong-scottish",
   "metadata": {},
   "outputs": [],
   "source": [
    "sample_1 = np.random.rand(100)\n",
    "sample_2 = np.random.rand(100)\n",
    "\n",
    "age_in_month = np.array([131, 32, 121, 1241, 124, 124, 134, 45, 656, 457, 74, 34, 65])\n",
    "age_in_years = age_in_month / 12"
   ]
  },
  {
   "cell_type": "code",
   "execution_count": 22,
   "id": "bigger-hundred",
   "metadata": {},
   "outputs": [
    {
     "name": "stdout",
     "output_type": "stream",
     "text": [
      "stat=0.046, p=0.647\n"
     ]
    }
   ],
   "source": [
    "stat, p = st.pearsonr(sample_1, sample_2)\n",
    "\n",
    "print('stat=%.3f, p=%.3f' % (stat, p))"
   ]
  },
  {
   "cell_type": "code",
   "execution_count": 23,
   "id": "weird-roommate",
   "metadata": {},
   "outputs": [
    {
     "name": "stdout",
     "output_type": "stream",
     "text": [
      "stat=1.000, p=0.000\n"
     ]
    }
   ],
   "source": [
    "stat, p = st.pearsonr(age_in_month, age_in_years)\n",
    "\n",
    "print('stat=%.3f, p=%.3f' % (stat, p))"
   ]
  },
  {
   "cell_type": "markdown",
   "id": "proud-savings",
   "metadata": {},
   "source": [
    "#### 2. Spearman’s Rank Correlation\n",
    "\n",
    "$H_0 = \\text{Independent Samples}$\n",
    "\n",
    "$H_a = \\text{Dependent Samples}$"
   ]
  },
  {
   "cell_type": "code",
   "execution_count": 24,
   "id": "adjustable-fraction",
   "metadata": {},
   "outputs": [
    {
     "name": "stdout",
     "output_type": "stream",
     "text": [
      "stat=0.034, p=0.735\n"
     ]
    }
   ],
   "source": [
    "stat, p = st.spearmanr(sample_1, sample_2)\n",
    "\n",
    "print('stat=%.3f, p=%.3f' % (stat, p))"
   ]
  },
  {
   "cell_type": "code",
   "execution_count": 25,
   "id": "funded-refund",
   "metadata": {},
   "outputs": [
    {
     "name": "stdout",
     "output_type": "stream",
     "text": [
      "stat=1.000, p=0.000\n"
     ]
    }
   ],
   "source": [
    "stat, p = st.spearmanr(age_in_month, age_in_years)\n",
    "\n",
    "print('stat=%.3f, p=%.3f' % (stat, p))"
   ]
  },
  {
   "cell_type": "markdown",
   "id": "declared-hanging",
   "metadata": {},
   "source": [
    "#### 3. Kendall’s Rank Correlation\n",
    "\n",
    "$H_0 = \\text{Independent Samples}$\n",
    "\n",
    "$H_a = \\text{Dependent Samples}$"
   ]
  },
  {
   "cell_type": "code",
   "execution_count": 26,
   "id": "affected-professor",
   "metadata": {},
   "outputs": [
    {
     "name": "stdout",
     "output_type": "stream",
     "text": [
      "stat=0.023, p=0.734\n"
     ]
    }
   ],
   "source": [
    "stat, p = st.kendalltau(sample_1, sample_2)\n",
    "\n",
    "print('stat=%.3f, p=%.3f' % (stat, p))"
   ]
  },
  {
   "cell_type": "code",
   "execution_count": 27,
   "id": "automated-water",
   "metadata": {},
   "outputs": [
    {
     "name": "stdout",
     "output_type": "stream",
     "text": [
      "stat=1.000, p=0.000\n"
     ]
    }
   ],
   "source": [
    "stat, p = st.kendalltau(age_in_month, age_in_years)\n",
    "\n",
    "print('stat=%.3f, p=%.3f' % (stat, p))"
   ]
  },
  {
   "cell_type": "markdown",
   "id": "noticed-commitment",
   "metadata": {},
   "source": [
    "### Parametric"
   ]
  },
  {
   "cell_type": "markdown",
   "id": "latest-assurance",
   "metadata": {},
   "source": [
    "#### 1. Student’s t-test\n",
    "\n",
    "\n",
    "$H_0 = \\text{Equality of Mean of Samples}$\n",
    "\n",
    "$H_a = \\text{Non-Equality of Mean of Samples}$"
   ]
  },
  {
   "cell_type": "code",
   "execution_count": 33,
   "id": "hearing-candle",
   "metadata": {},
   "outputs": [],
   "source": [
    "def t_test(x, y, alternative='both-sided'):\n",
    "    _, double_p = st.ttest_ind(x, y, equal_var = False)\n",
    "    if alternative == 'both-sided':\n",
    "        pval = double_p\n",
    "    elif alternative == 'greater':\n",
    "        if np.mean(x) > np.mean(y):\n",
    "            pval = double_p / 2.\n",
    "        else:\n",
    "            pval = 1.0 - double_p / 2.\n",
    "    elif alternative == 'less':\n",
    "        if np.mean(x) < np.mean(y):\n",
    "            pval = double_p / 2.\n",
    "        else:\n",
    "            pval = 1.0 - double_p / 2.\n",
    "    return pval"
   ]
  },
  {
   "cell_type": "code",
   "execution_count": 42,
   "id": "interior-asset",
   "metadata": {},
   "outputs": [
    {
     "name": "stdout",
     "output_type": "stream",
     "text": [
      "p=0.375\n"
     ]
    }
   ],
   "source": [
    "p = t_test(sample_1, sample_2, alternative='less')\n",
    "\n",
    "print('p=%.3f' % (p))"
   ]
  },
  {
   "cell_type": "code",
   "execution_count": 40,
   "id": "junior-specification",
   "metadata": {},
   "outputs": [
    {
     "name": "stdout",
     "output_type": "stream",
     "text": [
      "stat=-0.334, p=0.746\n"
     ]
    }
   ],
   "source": [
    "#Paired\n",
    "stat, p = st.ttest_rel(sample_1, sample_2)\n",
    "\n",
    "print('stat=%.3f, p=%.3f' % (stat, p))"
   ]
  },
  {
   "cell_type": "markdown",
   "id": "sound-stick",
   "metadata": {},
   "source": [
    "#### 2. ANOVA\n",
    "\n",
    "\n",
    "$H_0 = \\text{Equality of Mean of Samples}$\n",
    "\n",
    "$H_a = \\text{Non-Equality of Mean of Samples}$"
   ]
  },
  {
   "cell_type": "code",
   "execution_count": 60,
   "id": "immune-general",
   "metadata": {},
   "outputs": [],
   "source": [
    "sample_1 = [0.873, 2.817, 0.121, -0.945, -0.055, -1.436, 0.360, -1.478, -1.637, -1.869]\n",
    "sample_2 = [1.142, -0.432, -0.938, -0.729, -0.846, -0.157, 0.500, 1.183, -1.075, -0.169]"
   ]
  },
  {
   "cell_type": "code",
   "execution_count": 41,
   "id": "ethical-sellers",
   "metadata": {},
   "outputs": [
    {
     "name": "stdout",
     "output_type": "stream",
     "text": [
      "stat=0.106, p=0.748\n"
     ]
    }
   ],
   "source": [
    "stat, p = st.f_oneway(sample_1, sample_2)\n",
    "\n",
    "print('stat=%.3f, p=%.3f' % (stat, p))"
   ]
  },
  {
   "cell_type": "markdown",
   "id": "ancient-feature",
   "metadata": {},
   "source": [
    "### Non-Parametric\n",
    "\n",
    "- Mann-Whitney U Test\n",
    "- Wilcoxon Signed-Rank Test\n",
    "- Kruskal-Wallis H Test\n",
    "- Friedman Test\n"
   ]
  },
  {
   "cell_type": "markdown",
   "id": "international-terrain",
   "metadata": {},
   "source": [
    "### Distribution Test\n",
    "- Kolmogorov Smirnov"
   ]
  },
  {
   "cell_type": "code",
   "execution_count": 92,
   "id": "advised-latitude",
   "metadata": {},
   "outputs": [],
   "source": [
    "data_norm = st.norm(0, 1).rvs(200)\n",
    "data_uni = st.uniform(0, 1).rvs(200)\n",
    "data_poisson = st.poisson(13).rvs(200)"
   ]
  },
  {
   "cell_type": "code",
   "execution_count": 124,
   "id": "promising-documentation",
   "metadata": {},
   "outputs": [
    {
     "data": {
      "text/plain": [
       "KstestResult(statistic=0.066, pvalue=0.44977339495083846)"
      ]
     },
     "execution_count": 124,
     "metadata": {},
     "output_type": "execute_result"
    }
   ],
   "source": [
    "# Normal Test\n",
    "st.kstest(st.norm(0, 1).rvs(1000), data_norm)"
   ]
  },
  {
   "cell_type": "code",
   "execution_count": 125,
   "id": "beginning-conversation",
   "metadata": {},
   "outputs": [
    {
     "data": {
      "text/plain": [
       "KstestResult(statistic=1.0, pvalue=3.3306690738754696e-16)"
      ]
     },
     "execution_count": 125,
     "metadata": {},
     "output_type": "execute_result"
    }
   ],
   "source": [
    "# Binomial Test\n",
    "st.kstest(st.binom(n=100, p=0.5).rvs(1000), data_norm)"
   ]
  },
  {
   "cell_type": "code",
   "execution_count": 126,
   "id": "quality-miller",
   "metadata": {},
   "outputs": [
    {
     "data": {
      "text/plain": [
       "KstestResult(statistic=0.082, pvalue=0.20486733953842318)"
      ]
     },
     "execution_count": 126,
     "metadata": {},
     "output_type": "execute_result"
    }
   ],
   "source": [
    "# Uniform Test\n",
    "st.kstest(st.uniform(0, 1).rvs(1000), data_uni)"
   ]
  },
  {
   "cell_type": "code",
   "execution_count": 127,
   "id": "single-basic",
   "metadata": {},
   "outputs": [
    {
     "data": {
      "text/plain": [
       "KstestResult(statistic=1.0, pvalue=3.3306690738754696e-16)"
      ]
     },
     "execution_count": 127,
     "metadata": {},
     "output_type": "execute_result"
    }
   ],
   "source": [
    "# Uniform Test\n",
    "st.kstest(st.uniform(-1, 1).rvs(1000), data_uni)"
   ]
  },
  {
   "cell_type": "code",
   "execution_count": 128,
   "id": "victorian-supervision",
   "metadata": {},
   "outputs": [
    {
     "data": {
      "text/plain": [
       "KstestResult(statistic=0.229, pvalue=3.9603319401670944e-08)"
      ]
     },
     "execution_count": 128,
     "metadata": {},
     "output_type": "execute_result"
    }
   ],
   "source": [
    "# Poisson Test\n",
    "st.kstest(st.poisson(11).rvs(1000), data_poisson)"
   ]
  },
  {
   "cell_type": "code",
   "execution_count": 129,
   "id": "competitive-cream",
   "metadata": {},
   "outputs": [
    {
     "data": {
      "text/plain": [
       "KstestResult(statistic=0.127, pvalue=0.008662065379592354)"
      ]
     },
     "execution_count": 129,
     "metadata": {},
     "output_type": "execute_result"
    }
   ],
   "source": [
    "# Poisson Test\n",
    "st.kstest(st.poisson(12).rvs(1000), data_poisson)"
   ]
  },
  {
   "cell_type": "code",
   "execution_count": 130,
   "id": "burning-royal",
   "metadata": {},
   "outputs": [
    {
     "data": {
      "text/plain": [
       "KstestResult(statistic=0.059, pvalue=0.5938458985569726)"
      ]
     },
     "execution_count": 130,
     "metadata": {},
     "output_type": "execute_result"
    }
   ],
   "source": [
    "# Poisson Test\n",
    "st.kstest(st.poisson(13).rvs(1000), data_poisson)"
   ]
  },
  {
   "cell_type": "markdown",
   "id": "frozen-front",
   "metadata": {},
   "source": [
    "### Placebo Example"
   ]
  },
  {
   "cell_type": "code",
   "execution_count": 131,
   "id": "dangerous-diagram",
   "metadata": {},
   "outputs": [],
   "source": [
    "group_1 = [50, 40, 37, 60, 78, 90, 67, 45]\n",
    "group_2 = [65, 55, 65, 56, 70, 100, 80, 60]"
   ]
  },
  {
   "cell_type": "code",
   "execution_count": 135,
   "id": "technological-mailman",
   "metadata": {},
   "outputs": [
    {
     "data": {
      "text/plain": [
       "0.2392636991410787"
      ]
     },
     "execution_count": 135,
     "metadata": {},
     "output_type": "execute_result"
    }
   ],
   "source": [
    "t_test(group_2, group_1)"
   ]
  },
  {
   "cell_type": "code",
   "execution_count": 136,
   "id": "driven-singing",
   "metadata": {},
   "outputs": [
    {
     "name": "stdout",
     "output_type": "stream",
     "text": [
      "stat=0.450, p=0.643\n"
     ]
    }
   ],
   "source": [
    "group_1 = [50, 40, 37, 60, 78, 90, 67, 45]\n",
    "group_2 = [65, 55, 65, 56, 70, 100, 80, 60]\n",
    "group_3 = [70, 0, 65, 56, 70, 100, 90, 60]\n",
    "\n",
    "stat, p = st.f_oneway(group_1, group_2, group_3)\n",
    "\n",
    "print('stat=%.3f, p=%.3f' % (stat, p))"
   ]
  }
 ],
 "metadata": {
  "kernelspec": {
   "display_name": "Python 3",
   "language": "python",
   "name": "python3"
  },
  "language_info": {
   "codemirror_mode": {
    "name": "ipython",
    "version": 3
   },
   "file_extension": ".py",
   "mimetype": "text/x-python",
   "name": "python",
   "nbconvert_exporter": "python",
   "pygments_lexer": "ipython3",
   "version": "3.9.1"
  }
 },
 "nbformat": 4,
 "nbformat_minor": 5
}
