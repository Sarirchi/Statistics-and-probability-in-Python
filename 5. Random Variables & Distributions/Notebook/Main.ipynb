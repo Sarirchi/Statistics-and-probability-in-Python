{
 "cells": [
  {
   "cell_type": "code",
   "execution_count": 7,
   "id": "armed-niagara",
   "metadata": {},
   "outputs": [],
   "source": [
    "import numpy as np\n",
    "import scipy.stats as st\n",
    "import math \n",
    "import matplotlib.pyplot as plt\n",
    "import seaborn as sns"
   ]
  },
  {
   "cell_type": "markdown",
   "id": "hollow-tackle",
   "metadata": {},
   "source": [
    "### Integrate"
   ]
  },
  {
   "cell_type": "code",
   "execution_count": 15,
   "id": "junior-syndication",
   "metadata": {},
   "outputs": [
    {
     "name": "stdout",
     "output_type": "stream",
     "text": [
      "1.0\n"
     ]
    }
   ],
   "source": [
    "def prob_1(x):\n",
    "    return x ** 2\n",
    "\n",
    "def prob_2(x):\n",
    "    return x * (2 - x)\n",
    "\n",
    "from scipy.integrate import quad\n",
    "\n",
    "q1 = quad(prob_1, 0, 1)\n",
    "q2 = quad(prob_2, 1, 2)\n",
    "\n",
    "integ1 = q1[0] - q1[1]\n",
    "integ2 = q2[0] - q2[1]\n",
    "\n",
    "print(round(integ1 + integ2, 5))"
   ]
  },
  {
   "cell_type": "markdown",
   "id": "radio-departure",
   "metadata": {},
   "source": [
    "### Bernoulli"
   ]
  },
  {
   "cell_type": "markdown",
   "id": "seeing-france",
   "metadata": {},
   "source": [
    "### $P(x) = p$"
   ]
  },
  {
   "cell_type": "code",
   "execution_count": 27,
   "id": "empty-depth",
   "metadata": {},
   "outputs": [
    {
     "data": {
      "text/plain": [
       "(5979, 4021)"
      ]
     },
     "execution_count": 27,
     "metadata": {},
     "output_type": "execute_result"
    }
   ],
   "source": [
    "# Generate Data with Python\n",
    "def prob(p):\n",
    "    return p\n",
    "\n",
    "def generate(size, p):\n",
    "    data = []\n",
    "    for _ in range(size):\n",
    "        prob = np.random.rand()\n",
    "        if prob < p:\n",
    "            data.append(1)\n",
    "        else:\n",
    "            data.append(0)\n",
    "    return data\n",
    "\n",
    "data = generate(10000, 0.6)\n",
    "data.count(1), data.count(0)"
   ]
  },
  {
   "cell_type": "markdown",
   "id": "qualified-intention",
   "metadata": {},
   "source": [
    "### Binomial"
   ]
  },
  {
   "cell_type": "markdown",
   "id": "clinical-swimming",
   "metadata": {},
   "source": [
    "### $P(x) = {n \\choose k} \\times p^k(1-p)^{n-k}$"
   ]
  },
  {
   "cell_type": "code",
   "execution_count": 31,
   "id": "encouraging-whale",
   "metadata": {},
   "outputs": [
    {
     "data": {
      "text/plain": [
       "0.1171875"
      ]
     },
     "execution_count": 31,
     "metadata": {},
     "output_type": "execute_result"
    }
   ],
   "source": [
    "# PMF in Python\n",
    "def comb(n, k):\n",
    "    return math.factorial(n) / math.factorial(k) / math.factorial(n-k)\n",
    "\n",
    "def p_binom(p, n, k):\n",
    "    return comb(n, k) * p**k * (1-p)**(n-k)\n",
    "\n",
    "p_binom(0.5, 10, 3)"
   ]
  },
  {
   "cell_type": "code",
   "execution_count": 32,
   "id": "altered-knitting",
   "metadata": {},
   "outputs": [
    {
     "data": {
      "text/plain": [
       "0.11718750000000014"
      ]
     },
     "execution_count": 32,
     "metadata": {},
     "output_type": "execute_result"
    }
   ],
   "source": [
    "# PMF in Stats\n",
    "st.binom(10, 0.5).pmf(3)"
   ]
  },
  {
   "cell_type": "code",
   "execution_count": 34,
   "id": "civil-documentation",
   "metadata": {},
   "outputs": [],
   "source": [
    "# Generate Data with Stats\n",
    "data = st.binom(10, 0.5).rvs(size=10000)"
   ]
  },
  {
   "cell_type": "code",
   "execution_count": 35,
   "id": "straight-meaning",
   "metadata": {},
   "outputs": [
    {
     "data": {
      "text/plain": [
       "<Figure size 480x320 with 0 Axes>"
      ]
     },
     "metadata": {},
     "output_type": "display_data"
    },
    {
     "data": {
      "image/png": "[encoded data removed]",
      "text/plain": [
       "<Figure size 360x360 with 1 Axes>"
      ]
     },
     "metadata": {
      "needs_background": "light"
     },
     "output_type": "display_data"
    }
   ],
   "source": [
    "# Plot Distribution\n",
    "plt.figure(dpi=80)\n",
    "\n",
    "sns.displot(data)\n",
    "\n",
    "plt.show()"
   ]
  },
  {
   "cell_type": "markdown",
   "id": "moderate-writer",
   "metadata": {},
   "source": [
    "### Poisson"
   ]
  },
  {
   "cell_type": "markdown",
   "id": "chief-swiss",
   "metadata": {},
   "source": [
    "### $P(k) = e^{-\\lambda} \\times \\frac{\\lambda^k}{k!}$"
   ]
  },
  {
   "cell_type": "code",
   "execution_count": 38,
   "id": "coastal-amendment",
   "metadata": {},
   "outputs": [
    {
     "data": {
      "text/plain": [
       "0.03783327480207071"
      ]
     },
     "execution_count": 38,
     "metadata": {},
     "output_type": "execute_result"
    }
   ],
   "source": [
    "# PMF in Python\n",
    "def p_pois(lam, k):\n",
    "    return math.exp(-lam) * lam**k / math.factorial(k)\n",
    "\n",
    "p_pois(10, 5)"
   ]
  },
  {
   "cell_type": "code",
   "execution_count": 39,
   "id": "sacred-village",
   "metadata": {},
   "outputs": [
    {
     "data": {
      "text/plain": [
       "0.03783327480207079"
      ]
     },
     "execution_count": 39,
     "metadata": {},
     "output_type": "execute_result"
    }
   ],
   "source": [
    "# PMF in Stats\n",
    "st.poisson.pmf(5, 10)\n",
    "st.poisson(10).pmf(5)"
   ]
  },
  {
   "cell_type": "code",
   "execution_count": 40,
   "id": "medieval-import",
   "metadata": {},
   "outputs": [
    {
     "data": {
      "text/plain": [
       "0.010290650746163234"
      ]
     },
     "execution_count": 40,
     "metadata": {},
     "output_type": "execute_result"
    }
   ],
   "source": [
    "# CDF in Python\n",
    "def c_pois(lam, bound):\n",
    "    total = 0\n",
    "    for i in range(1, bound+1):\n",
    "        total += p_pois(lam, i)\n",
    "    return total\n",
    "\n",
    "c_pois(10, 3)"
   ]
  },
  {
   "cell_type": "code",
   "execution_count": 41,
   "id": "suitable-hostel",
   "metadata": {},
   "outputs": [
    {
     "data": {
      "text/plain": [
       "0.010336050675925726"
      ]
     },
     "execution_count": 41,
     "metadata": {},
     "output_type": "execute_result"
    }
   ],
   "source": [
    "# CDF in Stats\n",
    "st.poisson.cdf(3, 10)\n",
    "st.poisson(10).cdf(3)"
   ]
  },
  {
   "cell_type": "code",
   "execution_count": 42,
   "id": "fabulous-seeker",
   "metadata": {},
   "outputs": [],
   "source": [
    "# Generate Data with Stats\n",
    "data = st.poisson(10).rvs(size=100000)"
   ]
  },
  {
   "cell_type": "code",
   "execution_count": 43,
   "id": "fewer-secretary",
   "metadata": {},
   "outputs": [
    {
     "data": {
      "text/plain": [
       "<Figure size 480x320 with 0 Axes>"
      ]
     },
     "metadata": {},
     "output_type": "display_data"
    },
    {
     "data": {
      "image/png": "[encoded data removed]",
      "text/plain": [
       "<Figure size 360x360 with 1 Axes>"
      ]
     },
     "metadata": {
      "needs_background": "light"
     },
     "output_type": "display_data"
    }
   ],
   "source": [
    "# Plot Distribution\n",
    "plt.figure(dpi=80)\n",
    "\n",
    "sns.displot(data)\n",
    "\n",
    "plt.show()"
   ]
  },
  {
   "cell_type": "markdown",
   "id": "increased-exercise",
   "metadata": {},
   "source": [
    "### Uniform"
   ]
  },
  {
   "cell_type": "markdown",
   "id": "involved-doctor",
   "metadata": {},
   "source": [
    "### $P(x) = \\frac{1}{b-a}$"
   ]
  },
  {
   "cell_type": "code",
   "execution_count": 48,
   "id": "guilty-executive",
   "metadata": {},
   "outputs": [
    {
     "data": {
      "text/plain": [
       "0.005"
      ]
     },
     "execution_count": 48,
     "metadata": {},
     "output_type": "execute_result"
    }
   ],
   "source": [
    "# PDF in Python\n",
    "def p_uni(a, b):\n",
    "    return 1 / (b - a)\n",
    "\n",
    "p_uni(10, 210)"
   ]
  },
  {
   "cell_type": "code",
   "execution_count": 49,
   "id": "disturbed-apache",
   "metadata": {},
   "outputs": [
    {
     "data": {
      "text/plain": [
       "0.004761904761904762"
      ]
     },
     "execution_count": 49,
     "metadata": {},
     "output_type": "execute_result"
    }
   ],
   "source": [
    "# PDF in Stats\n",
    "uni = st.uniform(10, 210)\n",
    "uni.pdf(21)"
   ]
  },
  {
   "cell_type": "code",
   "execution_count": 52,
   "id": "living-associate",
   "metadata": {},
   "outputs": [
    {
     "data": {
      "text/plain": [
       "0.7"
      ]
     },
     "execution_count": 52,
     "metadata": {},
     "output_type": "execute_result"
    }
   ],
   "source": [
    "# CDF in Python\n",
    "def c_uni(a, b, k):\n",
    "    total = 0\n",
    "    for i in range(a, k):\n",
    "        total += p_uni(a, b)\n",
    "    return total\n",
    "c_uni(0, 10, 7)\n"
   ]
  },
  {
   "cell_type": "code",
   "execution_count": 17,
   "id": "differential-equilibrium",
   "metadata": {},
   "outputs": [
    {
     "data": {
      "text/plain": [
       "0.7"
      ]
     },
     "execution_count": 17,
     "metadata": {},
     "output_type": "execute_result"
    }
   ],
   "source": [
    "# CDF in Stats\n",
    "uni = st.uniform(0, 10)\n",
    "uni.cdf(7)"
   ]
  },
  {
   "cell_type": "code",
   "execution_count": 53,
   "id": "quiet-despite",
   "metadata": {},
   "outputs": [],
   "source": [
    "# Generate Data with Stats\n",
    "uni = st.uniform(-100, 100)\n",
    "data = uni.rvs(size=10000)"
   ]
  },
  {
   "cell_type": "code",
   "execution_count": 56,
   "id": "green-wellington",
   "metadata": {},
   "outputs": [
    {
     "data": {
      "text/plain": [
       "<Figure size 480x320 with 0 Axes>"
      ]
     },
     "metadata": {},
     "output_type": "display_data"
    },
    {
     "data": {
      "image/png": "[encoded data removed]",
      "text/plain": [
       "<Figure size 360x360 with 1 Axes>"
      ]
     },
     "metadata": {
      "needs_background": "light"
     },
     "output_type": "display_data"
    }
   ],
   "source": [
    "# Plot Distribution\n",
    "plt.figure(dpi=80)\n",
    "\n",
    "sns.displot(data, kind='kde')\n",
    "\n",
    "plt.show()"
   ]
  },
  {
   "cell_type": "markdown",
   "id": "backed-summer",
   "metadata": {},
   "source": [
    "### Normal\n",
    "\n",
    "**Hint:** $ \\rightarrow \\text{erf}(z) = \\frac{2}{\\sqrt{\\pi}} \\int_{0}^{z} e^{-t^2} $"
   ]
  },
  {
   "cell_type": "code",
   "execution_count": 64,
   "id": "functional-queensland",
   "metadata": {},
   "outputs": [
    {
     "data": {
      "text/plain": [
       "0.0044318484119380075"
      ]
     },
     "execution_count": 64,
     "metadata": {},
     "output_type": "execute_result"
    }
   ],
   "source": [
    "# PDF in Python\n",
    "def p_norm(x , mean , sd):\n",
    "    return 1 / (sd * math.sqrt(2 * math.pi)) * math.exp(-0.5 * ((x - mean) / sd) ** 2)\n",
    "p_norm(3, 0, 1)"
   ]
  },
  {
   "cell_type": "code",
   "execution_count": 65,
   "id": "backed-mount",
   "metadata": {},
   "outputs": [
    {
     "data": {
      "text/plain": [
       "0.0044318484119380075"
      ]
     },
     "execution_count": 65,
     "metadata": {},
     "output_type": "execute_result"
    }
   ],
   "source": [
    "# PDF in Stats\n",
    "norm = st.norm(loc=0, scale=1)\n",
    "norm.pdf(3)"
   ]
  },
  {
   "cell_type": "code",
   "execution_count": 68,
   "id": "eleven-laser",
   "metadata": {},
   "outputs": [
    {
     "data": {
      "text/plain": [
       "0.6390797174095553"
      ]
     },
     "execution_count": 68,
     "metadata": {},
     "output_type": "execute_result"
    }
   ],
   "source": [
    "# CDF in Python\n",
    "def c_norm(x , mean , sd):\n",
    "    return 0.5 * (1 + math.erf((x-mean)/(sd*2**0.5)))\n",
    "c_norm(0.356, 0, 1)"
   ]
  },
  {
   "cell_type": "code",
   "execution_count": 69,
   "id": "utility-independence",
   "metadata": {},
   "outputs": [
    {
     "data": {
      "text/plain": [
       "0.6390797174095553"
      ]
     },
     "execution_count": 69,
     "metadata": {},
     "output_type": "execute_result"
    }
   ],
   "source": [
    "# CDF in Stats\n",
    "norm.cdf(0.356)"
   ]
  },
  {
   "cell_type": "code",
   "execution_count": 77,
   "id": "industrial-isaac",
   "metadata": {},
   "outputs": [],
   "source": [
    "# Generate Data with Stats\n",
    "data = norm.rvs(size=100000)"
   ]
  },
  {
   "cell_type": "code",
   "execution_count": 79,
   "id": "quick-isaac",
   "metadata": {},
   "outputs": [
    {
     "data": {
      "text/plain": [
       "<Figure size 480x320 with 0 Axes>"
      ]
     },
     "metadata": {},
     "output_type": "display_data"
    },
    {
     "data": {
      "image/png": "[encoded data removed]",
      "text/plain": [
       "<Figure size 360x360 with 1 Axes>"
      ]
     },
     "metadata": {
      "needs_background": "light"
     },
     "output_type": "display_data"
    }
   ],
   "source": [
    "# Plot Distribution\n",
    "plt.figure(dpi=80)\n",
    "\n",
    "sns.displot(data)\n",
    "\n",
    "plt.show()"
   ]
  },
  {
   "cell_type": "code",
   "execution_count": 80,
   "id": "economic-douglas",
   "metadata": {},
   "outputs": [
    {
     "data": {
      "text/plain": [
       "0.3780661222713134"
      ]
     },
     "execution_count": 80,
     "metadata": {},
     "output_type": "execute_result"
    }
   ],
   "source": [
    "# Problem ~ P(2 < X < 5) [mean=3, var=9]\n",
    "uni = st.norm(3, np.sqrt(9))\n",
    "uni.cdf(5) - uni.cdf(2)"
   ]
  },
  {
   "cell_type": "code",
   "execution_count": 81,
   "id": "understanding-pacific",
   "metadata": {},
   "outputs": [
    {
     "data": {
      "text/plain": [
       "0.8460999999999999"
      ]
     },
     "execution_count": 81,
     "metadata": {},
     "output_type": "execute_result"
    }
   ],
   "source": [
    "# Problem ~ CDF(?) = 0.8461\n",
    "uni = st.norm(0, 1)\n",
    "uni.ppf(0.8461) # PPF != CDF\n",
    "uni.cdf(1.0198491688883393)"
   ]
  },
  {
   "cell_type": "code",
   "execution_count": 82,
   "id": "attempted-growth",
   "metadata": {},
   "outputs": [
    {
     "data": {
      "text/plain": [
       "81.85946141203637"
      ]
     },
     "execution_count": 82,
     "metadata": {},
     "output_type": "execute_result"
    }
   ],
   "source": [
    "# Problem ~ P(-2 < X < 1) = ?%\n",
    "uni = st.norm(0, 1)\n",
    "prob =  uni.cdf(1) - uni.cdf(-2)\n",
    "prob * 100"
   ]
  },
  {
   "cell_type": "markdown",
   "id": "ceramic-advantage",
   "metadata": {},
   "source": [
    "### Custom Variable\n",
    "`pip install pprobs`\n"
   ]
  },
  {
   "cell_type": "code",
   "execution_count": 83,
   "id": "caroline-dating",
   "metadata": {},
   "outputs": [],
   "source": [
    "from pprobs.distribution import Continuous, Discrete"
   ]
  },
  {
   "cell_type": "code",
   "execution_count": 87,
   "id": "isolated-institution",
   "metadata": {},
   "outputs": [
    {
     "data": {
      "text/plain": [
       "(1673, 1668)"
      ]
     },
     "execution_count": 87,
     "metadata": {},
     "output_type": "execute_result"
    }
   ],
   "source": [
    "# CDF\n",
    "def pmf(x):\n",
    "    return 1 / 6\n",
    "\n",
    "dist = Discrete(pmf, [1, 2, 3, 4, 5, 6])\n",
    "data = dist.generate(10000)\n",
    "\n",
    "data.count(6), data.count(1)"
   ]
  },
  {
   "cell_type": "code",
   "execution_count": 88,
   "id": "colored-canberra",
   "metadata": {},
   "outputs": [
    {
     "data": {
      "text/plain": [
       "<seaborn.axisgrid.FacetGrid at 0x7fc7f5c12d30>"
      ]
     },
     "execution_count": 88,
     "metadata": {},
     "output_type": "execute_result"
    },
    {
     "data": {
      "image/png": "[encoded data removed]",
      "text/plain": [
       "<Figure size 360x360 with 1 Axes>"
      ]
     },
     "metadata": {
      "needs_background": "light"
     },
     "output_type": "display_data"
    }
   ],
   "source": [
    "# PMF\n",
    "def pdf(x):\n",
    "    return 1 / x ** 4\n",
    "\n",
    "dist = Continuous(pdf, [2, 10])\n",
    "data = dist.generate(10000)\n",
    "\n",
    "sns.displot(data, kind='kde')"
   ]
  },
  {
   "cell_type": "code",
   "execution_count": null,
   "id": "clean-liberia",
   "metadata": {},
   "outputs": [],
   "source": []
  }
 ],
 "metadata": {
  "kernelspec": {
   "display_name": "Python 3",
   "language": "python",
   "name": "python3"
  },
  "language_info": {
   "codemirror_mode": {
    "name": "ipython",
    "version": 3
   },
   "file_extension": ".py",
   "mimetype": "text/x-python",
   "name": "python",
   "nbconvert_exporter": "python",
   "pygments_lexer": "ipython3",
   "version": "3.9.1"
  }
 },
 "nbformat": 4,
 "nbformat_minor": 5
}
